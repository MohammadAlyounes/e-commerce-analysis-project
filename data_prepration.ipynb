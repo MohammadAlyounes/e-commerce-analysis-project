{
 "cells": [
  {
   "cell_type": "code",
   "execution_count": 1,
   "id": "ad267b14-20d7-4dd8-9078-15661070cd83",
   "metadata": {},
   "outputs": [],
   "source": [
    "# import the libraries\n",
    "import pandas as pd\n",
    "import numpy as np\n",
    "import matplotlib.pyplot as plt"
   ]
  },
  {
   "cell_type": "code",
   "execution_count": 2,
   "id": "a6374bbb-d577-46f3-95bb-1c5749b34d8b",
   "metadata": {},
   "outputs": [],
   "source": [
    "# import the datasets\n",
    "november = pd.read_csv('./november.csv.gz')\n",
    "december = pd.read_csv('./december.csv.gz')"
   ]
  },
  {
   "cell_type": "code",
   "execution_count": 3,
   "id": "beaa6d40-bdc4-422b-8c14-e3ec936ae6f3",
   "metadata": {},
   "outputs": [],
   "source": [
    "# merge two datasets\n",
    "events = pd.concat([november, december], axis=0, ignore_index=True)"
   ]
  },
  {
   "cell_type": "markdown",
   "id": "654e04d3-d8d2-4bce-b749-5e2fa8c9da49",
   "metadata": {},
   "source": [
    "###  Data exploring"
   ]
  },
  {
   "cell_type": "code",
   "execution_count": 4,
   "id": "0b7d29b4-04b0-49a4-ba24-a8edcd3d6072",
   "metadata": {},
   "outputs": [
    {
     "data": {
      "text/plain": [
       "(7033125, 9)"
      ]
     },
     "execution_count": 4,
     "metadata": {},
     "output_type": "execute_result"
    }
   ],
   "source": [
    "events.shape"
   ]
  },
  {
   "cell_type": "markdown",
   "id": "2a3c2559-23f2-4cd6-91f7-3d8d4a814550",
   "metadata": {},
   "source": [
    "#### Previous conclusion: Over 7 millions events in our datasets"
   ]
  },
  {
   "cell_type": "code",
   "execution_count": 5,
   "id": "762d88d1-80a7-46b8-8c31-fb744609361b",
   "metadata": {},
   "outputs": [
    {
     "data": {
      "text/plain": [
       "event_time            0\n",
       "event_type            0\n",
       "product_id            0\n",
       "category_id           0\n",
       "category_code         0\n",
       "brand            395108\n",
       "price                 0\n",
       "user_id               0\n",
       "user_session         27\n",
       "dtype: int64"
      ]
     },
     "execution_count": 5,
     "metadata": {},
     "output_type": "execute_result"
    }
   ],
   "source": [
    "# check the missing values for each feature\n",
    "events.isnull().sum()"
   ]
  },
  {
   "cell_type": "code",
   "execution_count": 6,
   "id": "5fd44da7-ef9f-4f9e-8975-ae1f22f017c5",
   "metadata": {},
   "outputs": [
    {
     "data": {
      "text/html": [
       "<div>\n",
       "<style scoped>\n",
       "    .dataframe tbody tr th:only-of-type {\n",
       "        vertical-align: middle;\n",
       "    }\n",
       "\n",
       "    .dataframe tbody tr th {\n",
       "        vertical-align: top;\n",
       "    }\n",
       "\n",
       "    .dataframe thead th {\n",
       "        text-align: right;\n",
       "    }\n",
       "</style>\n",
       "<table border=\"1\" class=\"dataframe\">\n",
       "  <thead>\n",
       "    <tr style=\"text-align: right;\">\n",
       "      <th></th>\n",
       "      <th>event_time</th>\n",
       "      <th>event_type</th>\n",
       "      <th>product_id</th>\n",
       "      <th>category_id</th>\n",
       "      <th>category_code</th>\n",
       "      <th>brand</th>\n",
       "      <th>price</th>\n",
       "      <th>user_id</th>\n",
       "      <th>user_session</th>\n",
       "    </tr>\n",
       "  </thead>\n",
       "  <tbody>\n",
       "    <tr>\n",
       "      <th>0</th>\n",
       "      <td>2019-11-01 00:00:14 UTC</td>\n",
       "      <td>cart</td>\n",
       "      <td>1005014</td>\n",
       "      <td>2053013555631882655</td>\n",
       "      <td>electronics.smartphone</td>\n",
       "      <td>samsung</td>\n",
       "      <td>503.09</td>\n",
       "      <td>533326659</td>\n",
       "      <td>6b928be2-2bce-4640-8296-0efdf2fda22a</td>\n",
       "    </tr>\n",
       "    <tr>\n",
       "      <th>1</th>\n",
       "      <td>2019-11-01 00:00:41 UTC</td>\n",
       "      <td>purchase</td>\n",
       "      <td>13200605</td>\n",
       "      <td>2053013557192163841</td>\n",
       "      <td>furniture.bedroom.bed</td>\n",
       "      <td>NaN</td>\n",
       "      <td>566.30</td>\n",
       "      <td>559368633</td>\n",
       "      <td>d6034fa2-41fb-4ac0-9051-55ea9fc9147a</td>\n",
       "    </tr>\n",
       "    <tr>\n",
       "      <th>2</th>\n",
       "      <td>2019-11-01 00:01:04 UTC</td>\n",
       "      <td>purchase</td>\n",
       "      <td>1005161</td>\n",
       "      <td>2053013555631882655</td>\n",
       "      <td>electronics.smartphone</td>\n",
       "      <td>xiaomi</td>\n",
       "      <td>211.92</td>\n",
       "      <td>513351129</td>\n",
       "      <td>e6b7ce9b-1938-4e20-976c-8b4163aea11d</td>\n",
       "    </tr>\n",
       "    <tr>\n",
       "      <th>3</th>\n",
       "      <td>2019-11-01 00:03:24 UTC</td>\n",
       "      <td>cart</td>\n",
       "      <td>1801881</td>\n",
       "      <td>2053013554415534427</td>\n",
       "      <td>electronics.video.tv</td>\n",
       "      <td>samsung</td>\n",
       "      <td>488.80</td>\n",
       "      <td>557746614</td>\n",
       "      <td>4d76d6d3-fff5-4880-8327-e9e57b618e0e</td>\n",
       "    </tr>\n",
       "    <tr>\n",
       "      <th>4</th>\n",
       "      <td>2019-11-01 00:03:39 UTC</td>\n",
       "      <td>cart</td>\n",
       "      <td>1005115</td>\n",
       "      <td>2053013555631882655</td>\n",
       "      <td>electronics.smartphone</td>\n",
       "      <td>apple</td>\n",
       "      <td>949.47</td>\n",
       "      <td>565865924</td>\n",
       "      <td>fd4bd6d4-bd14-4fdc-9aff-bd41a594f82e</td>\n",
       "    </tr>\n",
       "  </tbody>\n",
       "</table>\n",
       "</div>"
      ],
      "text/plain": [
       "                event_time event_type  product_id          category_id  \\\n",
       "0  2019-11-01 00:00:14 UTC       cart     1005014  2053013555631882655   \n",
       "1  2019-11-01 00:00:41 UTC   purchase    13200605  2053013557192163841   \n",
       "2  2019-11-01 00:01:04 UTC   purchase     1005161  2053013555631882655   \n",
       "3  2019-11-01 00:03:24 UTC       cart     1801881  2053013554415534427   \n",
       "4  2019-11-01 00:03:39 UTC       cart     1005115  2053013555631882655   \n",
       "\n",
       "            category_code    brand   price    user_id  \\\n",
       "0  electronics.smartphone  samsung  503.09  533326659   \n",
       "1   furniture.bedroom.bed      NaN  566.30  559368633   \n",
       "2  electronics.smartphone   xiaomi  211.92  513351129   \n",
       "3    electronics.video.tv  samsung  488.80  557746614   \n",
       "4  electronics.smartphone    apple  949.47  565865924   \n",
       "\n",
       "                           user_session  \n",
       "0  6b928be2-2bce-4640-8296-0efdf2fda22a  \n",
       "1  d6034fa2-41fb-4ac0-9051-55ea9fc9147a  \n",
       "2  e6b7ce9b-1938-4e20-976c-8b4163aea11d  \n",
       "3  4d76d6d3-fff5-4880-8327-e9e57b618e0e  \n",
       "4  fd4bd6d4-bd14-4fdc-9aff-bd41a594f82e  "
      ]
     },
     "execution_count": 6,
     "metadata": {},
     "output_type": "execute_result"
    }
   ],
   "source": [
    "events.head()"
   ]
  },
  {
   "cell_type": "code",
   "execution_count": 7,
   "id": "a6b39b5e-c45b-4653-9706-7bb2f9a23c33",
   "metadata": {},
   "outputs": [],
   "source": [
    "events[\"event_time\"] = pd.to_datetime(events[\"event_time\"], \n",
    "                                      format=\"%Y-%m-%d %H:%M:%S %Z\")"
   ]
  },
  {
   "cell_type": "code",
   "execution_count": 8,
   "id": "0f352172-7dd5-4303-bed5-3901ca371252",
   "metadata": {},
   "outputs": [
    {
     "data": {
      "text/plain": [
       "0         2019-11-01 00:00:14+00:00\n",
       "1         2019-11-01 00:00:41+00:00\n",
       "2         2019-11-01 00:01:04+00:00\n",
       "3         2019-11-01 00:03:24+00:00\n",
       "4         2019-11-01 00:03:39+00:00\n",
       "                     ...           \n",
       "7033120   2019-12-31 23:57:10+00:00\n",
       "7033121   2019-12-31 23:57:52+00:00\n",
       "7033122   2019-12-31 23:58:28+00:00\n",
       "7033123   2019-12-31 23:58:40+00:00\n",
       "7033124   2019-12-31 23:59:09+00:00\n",
       "Name: event_time, Length: 7033125, dtype: datetime64[ns, UTC]"
      ]
     },
     "execution_count": 8,
     "metadata": {},
     "output_type": "execute_result"
    }
   ],
   "source": [
    "events[\"event_time\"]"
   ]
  },
  {
   "cell_type": "code",
   "execution_count": 9,
   "id": "2bcf1953-ace9-408c-9fc9-789f707833e8",
   "metadata": {},
   "outputs": [
    {
     "data": {
      "text/plain": [
       "min   2019-11-01 00:00:14+00:00\n",
       "max   2019-12-31 23:59:09+00:00\n",
       "Name: event_time, dtype: datetime64[ns, UTC]"
      ]
     },
     "execution_count": 9,
     "metadata": {},
     "output_type": "execute_result"
    }
   ],
   "source": [
    "# check if the data really for November and December\n",
    "events[\"event_time\"].agg([\"min\",\"max\"])"
   ]
  },
  {
   "cell_type": "code",
   "execution_count": 10,
   "id": "b1165ed6-3684-4a73-9ff8-1ddcc1780bda",
   "metadata": {
    "scrolled": true
   },
   "outputs": [
    {
     "data": {
      "text/plain": [
       "month\n",
       "11    30\n",
       "12    31\n",
       "Name: day, dtype: int64"
      ]
     },
     "execution_count": 10,
     "metadata": {},
     "output_type": "execute_result"
    }
   ],
   "source": [
    "# check if we have event data for every single date\n",
    "events.assign(month=events[\"event_time\"].dt.month,\n",
    "              day=events[\"event_time\"].dt.day).groupby(\"month\")[\"day\"].nunique()"
   ]
  },
  {
   "cell_type": "markdown",
   "id": "264a1da4-41f4-42db-a3c8-851ba2e2e996",
   "metadata": {},
   "source": [
    "#### Previous conclusion: Everyday in two months we have events"
   ]
  },
  {
   "cell_type": "code",
   "execution_count": 11,
   "id": "a70b3990-2b29-49dd-8c71-89eac29b7d06",
   "metadata": {},
   "outputs": [
    {
     "data": {
      "image/png": "[encoded data removed]",
      "text/plain": [
       "<Figure size 1000x600 with 1 Axes>"
      ]
     },
     "metadata": {},
     "output_type": "display_data"
    }
   ],
   "source": [
    "# The distrbuition of events acroos the days\n",
    "fig, axis = plt.subplots(figsize=(10, 6))\n",
    "\n",
    "events.assign(month=events[\"event_time\"].dt.month,\n",
    "              day=events[\"event_time\"].dt.day).groupby([\"month\", \"day\"]).size().plot.bar(ax=axis)\n",
    "\n",
    "labels = (\n",
    "    pd.date_range(events[\"event_time\"].dt.date.min(),\n",
    "                  events[\"event_time\"].dt.date.max(),\n",
    "                  freq=\"D\").strftime(\"%b %d\"))\n",
    "\n",
    "axis.set(title=\"Number of events per calendar day\",\n",
    "         xlabel=\"Calendar day\",\n",
    "         ylabel=\"Number of rows\", xticklabels=labels)\n",
    "\n",
    "plt.show()"
   ]
  },
  {
   "cell_type": "code",
   "execution_count": 12,
   "id": "4378bdbf-6e19-4b02-903d-a5106b892c00",
   "metadata": {},
   "outputs": [
    {
     "data": {
      "text/plain": [
       "event_type\n",
       "cart        5276372\n",
       "purchase    1756753\n",
       "Name: count, dtype: int64"
      ]
     },
     "execution_count": 12,
     "metadata": {},
     "output_type": "execute_result"
    }
   ],
   "source": [
    "# proportion of the different events (cart or purchase)\n",
    "events[\"event_type\"].value_counts(dropna=False)"
   ]
  },
  {
   "cell_type": "code",
   "execution_count": 13,
   "id": "bf316d8b-f9de-497a-ba9f-502e97fe6cab",
   "metadata": {},
   "outputs": [
    {
     "data": {
      "image/png": "[encoded data removed]",
      "text/plain": [
       "<Figure size 640x480 with 1 Axes>"
      ]
     },
     "metadata": {},
     "output_type": "display_data"
    }
   ],
   "source": [
    "# distribution of product sale prices\n",
    "fig, axis = plt.subplots()\n",
    "\n",
    "events[\"price\"].hist(bins=25, ax=axis)\n",
    "\n",
    "# disable scientific notation\n",
    "axis.ticklabel_format(useOffset=False, style=\"plain\")\n",
    "\n",
    "axis.set(title=\"Distribution of product price\",\n",
    "         xlabel=\"Sale price $\",\n",
    "         ylabel=\"Frequency\")\n",
    "\n",
    "plt.show()"
   ]
  },
  {
   "cell_type": "markdown",
   "id": "8cedb996-3b1e-43c1-8bf3-e29c6105219f",
   "metadata": {},
   "source": [
    "#### Previous conclusion: Most of our products sold for under 500 with some outliers up to $2,500."
   ]
  },
  {
   "cell_type": "code",
   "execution_count": 14,
   "id": "005db0a7-6dc7-45a5-8f9c-224978e02d96",
   "metadata": {},
   "outputs": [
    {
     "data": {
      "text/plain": [
       "brand\n",
       "samsung    1756284\n",
       "apple      1368364\n",
       "xiaomi      722125\n",
       "huawei      263155\n",
       "oppo        128661\n",
       "lg          123581\n",
       "sony         78615\n",
       "artel        72124\n",
       "lucente      69998\n",
       "lenovo       59700\n",
       "Name: count, dtype: int64"
      ]
     },
     "execution_count": 14,
     "metadata": {},
     "output_type": "execute_result"
    }
   ],
   "source": [
    "events[\"brand\"].value_counts().head(10)  # top 10 brands in sales"
   ]
  },
  {
   "cell_type": "code",
   "execution_count": 23,
   "id": "b9b9fda4-67be-415c-9093-41dd32ef42a4",
   "metadata": {},
   "outputs": [
    {
     "data": {
      "text/plain": [
       "product_id\n",
       "1000978      2\n",
       "13900087     2\n",
       "13900049     2\n",
       "13900054     2\n",
       "13900055     2\n",
       "            ..\n",
       "5701183      2\n",
       "5701186      2\n",
       "5701190      2\n",
       "5701192      2\n",
       "100028003    2\n",
       "Name: category_code, Length: 12884, dtype: int64"
      ]
     },
     "execution_count": 23,
     "metadata": {},
     "output_type": "execute_result"
    }
   ],
   "source": [
    "# check if we have any product IDs that are assigned to multiple categories?\n",
    "\n",
    "events.groupby(\"product_id\")[\"category_code\"].nunique().loc[lambda x: x > 1].sort_values(ascending=False)\n",
    "\n"
   ]
  },
  {
   "cell_type": "code",
   "execution_count": 25,
   "id": "96c36566-ef73-4cf6-9fb9-ecdb7f9ffe66",
   "metadata": {},
   "outputs": [
    {
     "data": {
      "text/plain": [
       "category_code\n",
       "construction.tools.light            1823398\n",
       "electronics.smartphone              1577185\n",
       "electronics.audio.headphone          240308\n",
       "electronics.clocks                   233198\n",
       "sport.bicycle                        231644\n",
       "apparel.shoes                        212586\n",
       "appliances.kitchen.refrigerators     190523\n",
       "appliances.personal.massager         185601\n",
       "appliances.environment.vacuum        170290\n",
       "appliances.kitchen.washer            170121\n",
       "Name: count, dtype: int64"
      ]
     },
     "execution_count": 25,
     "metadata": {},
     "output_type": "execute_result"
    }
   ],
   "source": [
    "events[\"category_code\"].value_counts().head(10)  # top 10 brands in our datasets"
   ]
  },
  {
   "cell_type": "code",
   "execution_count": 27,
   "id": "da8c0667-f029-4552-86e8-1f39e70026dd",
   "metadata": {},
   "outputs": [
    {
     "data": {
      "text/plain": [
       "brand\n",
       "samsung    727599\n",
       "apple      521481\n",
       "xiaomi     304546\n",
       "huawei     149347\n",
       "oppo        68446\n",
       "vivo        10709\n",
       "meizu        9093\n",
       "honor        4389\n",
       "nokia        3231\n",
       "omron        3003\n",
       "Name: count, dtype: int64"
      ]
     },
     "execution_count": 27,
     "metadata": {},
     "output_type": "execute_result"
    }
   ],
   "source": [
    "# what are brands assigned to category (construction.tools.light)?\n",
    "events.loc[events[\"category_code\"] == \"construction.tools.light\", \"brand\"].value_counts().head(10)"
   ]
  },
  {
   "cell_type": "code",
   "execution_count": 28,
   "id": "a2ce22d8-bc62-4351-9b5c-5da680663c80",
   "metadata": {},
   "outputs": [],
   "source": [
    "# store the product ids that assigned to more than one category\n",
    "dupe_product_ids = events.groupby(\"product_id\")[\"category_code\"].nunique().loc[lambda x:x>1].index.values"
   ]
  },
  {
   "cell_type": "code",
   "execution_count": 29,
   "id": "ccc74dd5-fa7f-4ce5-8224-500d2396166b",
   "metadata": {},
   "outputs": [
    {
     "data": {
      "text/plain": [
       "array([1000978, 1001588, 1001618, 1001619, 1002098, 1002100, 1002101,\n",
       "       1002225, 1002367, 1002482], dtype=int64)"
      ]
     },
     "execution_count": 29,
     "metadata": {},
     "output_type": "execute_result"
    }
   ],
   "source": [
    "dupe_product_ids[:10]"
   ]
  },
  {
   "cell_type": "code",
   "execution_count": 31,
   "id": "7aa08e0d-d257-451f-81fb-6f0e18a06861",
   "metadata": {},
   "outputs": [
    {
     "data": {
      "text/plain": [
       "category_code\n",
       "construction.tools.light    50\n",
       "electronics.smartphone      22\n",
       "Name: count, dtype: int64"
      ]
     },
     "execution_count": 31,
     "metadata": {},
     "output_type": "execute_result"
    }
   ],
   "source": [
    "events.loc[events[\"product_id\"] == 1001588, \"category_code\"].value_counts()"
   ]
  },
  {
   "cell_type": "code",
   "execution_count": 32,
   "id": "5dddb136-59ce-4ec0-af3a-bc53843451e3",
   "metadata": {},
   "outputs": [],
   "source": [
    "# solution to fix the product ID has multiple categories problem\n",
    "\n",
    "def get_correct_category_code(product_id_rows):\n",
    "    # product_id_rows is all rows for a given product ID\n",
    "    categories = product_id_rows[\"category_code\"].value_counts()\n",
    "\n",
    "    # if one is construction.tools.light, return the other one\n",
    "    if \"construction.tools.light\" in categories.index:\n",
    "        return categories.index.drop(\"construction.tools.light\").values[0]\n",
    "    else:\n",
    "        return categories.index[0]  # return the majority category\n",
    "\n",
    "\n",
    "corrected_categories = events[events[\"product_id\"].isin(dupe_product_ids)].groupby(\"product_id\").apply(get_correct_category_code).reset_index(name=\"corrected_category\")\n"
   ]
  },
  {
   "cell_type": "code",
   "execution_count": 33,
   "id": "d1611504-a29c-4d2e-8e51-6a9837614990",
   "metadata": {},
   "outputs": [
    {
     "data": {
      "text/html": [
       "<div>\n",
       "<style scoped>\n",
       "    .dataframe tbody tr th:only-of-type {\n",
       "        vertical-align: middle;\n",
       "    }\n",
       "\n",
       "    .dataframe tbody tr th {\n",
       "        vertical-align: top;\n",
       "    }\n",
       "\n",
       "    .dataframe thead th {\n",
       "        text-align: right;\n",
       "    }\n",
       "</style>\n",
       "<table border=\"1\" class=\"dataframe\">\n",
       "  <thead>\n",
       "    <tr style=\"text-align: right;\">\n",
       "      <th></th>\n",
       "      <th>product_id</th>\n",
       "      <th>corrected_category</th>\n",
       "    </tr>\n",
       "  </thead>\n",
       "  <tbody>\n",
       "    <tr>\n",
       "      <th>0</th>\n",
       "      <td>1000978</td>\n",
       "      <td>electronics.smartphone</td>\n",
       "    </tr>\n",
       "    <tr>\n",
       "      <th>1</th>\n",
       "      <td>1001588</td>\n",
       "      <td>electronics.smartphone</td>\n",
       "    </tr>\n",
       "    <tr>\n",
       "      <th>2</th>\n",
       "      <td>1001618</td>\n",
       "      <td>electronics.smartphone</td>\n",
       "    </tr>\n",
       "    <tr>\n",
       "      <th>3</th>\n",
       "      <td>1001619</td>\n",
       "      <td>electronics.smartphone</td>\n",
       "    </tr>\n",
       "    <tr>\n",
       "      <th>4</th>\n",
       "      <td>1002098</td>\n",
       "      <td>electronics.smartphone</td>\n",
       "    </tr>\n",
       "  </tbody>\n",
       "</table>\n",
       "</div>"
      ],
      "text/plain": [
       "   product_id      corrected_category\n",
       "0     1000978  electronics.smartphone\n",
       "1     1001588  electronics.smartphone\n",
       "2     1001618  electronics.smartphone\n",
       "3     1001619  electronics.smartphone\n",
       "4     1002098  electronics.smartphone"
      ]
     },
     "execution_count": 33,
     "metadata": {},
     "output_type": "execute_result"
    }
   ],
   "source": [
    "corrected_categories.head()"
   ]
  },
  {
   "cell_type": "code",
   "execution_count": 35,
   "id": "b55cf3af-8079-4bbb-a58b-3152d18286a9",
   "metadata": {},
   "outputs": [],
   "source": [
    "# merge the corrected categories into our events dataset\n",
    "events = events.merge(corrected_categories, on=\"product_id\", how=\"left\")\n",
    "# overwrite the categories where the original and the corrected categories do not match.\n",
    "events.loc[events[\"corrected_category\"].notnull(), \"category_code\"] = events.loc[events[\"corrected_category\"].notnull(), \"corrected_category\"]"
   ]
  },
  {
   "cell_type": "code",
   "execution_count": 36,
   "id": "529b18e2-1d0e-42d7-b803-76d0a1444f7f",
   "metadata": {},
   "outputs": [
    {
     "data": {
      "text/plain": [
       "category_code\n",
       "electronics.smartphone              3350680\n",
       "sport.bicycle                        384120\n",
       "appliances.personal.massager         254300\n",
       "electronics.clocks                   228546\n",
       "appliances.kitchen.refrigerators     214637\n",
       "                                     ...   \n",
       "apparel.skirt                           261\n",
       "construction.tools.soldering            200\n",
       "sport.diving                            144\n",
       "computers.components.sound_card         118\n",
       "auto.accessories.light                   41\n",
       "Name: count, Length: 134, dtype: int64"
      ]
     },
     "execution_count": 36,
     "metadata": {},
     "output_type": "execute_result"
    }
   ],
   "source": [
    "events[\"category_code\"].value_counts()"
   ]
  },
  {
   "cell_type": "code",
   "execution_count": 37,
   "id": "b092978a-68b3-4a9c-8378-07e5cbb538c3",
   "metadata": {},
   "outputs": [
    {
     "data": {
      "text/plain": [
       "category\n",
       "electronics     3908916\n",
       "appliances      1250149\n",
       "apparel          540955\n",
       "sport            439029\n",
       "computers        291790\n",
       "furniture        216264\n",
       "construction     144637\n",
       "kids              98236\n",
       "auto              89079\n",
       "accessories       39350\n",
       "country_yard       6106\n",
       "medicine           5616\n",
       "stationery         2998\n",
       "Name: count, dtype: int64"
      ]
     },
     "execution_count": 37,
     "metadata": {},
     "output_type": "execute_result"
    }
   ],
   "source": [
    "# make our category column from category code column to mention for just one category (without sub-categories)\n",
    "events[\"category\"] = events[\"category_code\"].str.split(\".\").str[0]\n",
    "# rename category_code column to subcategory\n",
    "events = events.rename(columns={\"category_code\": \"subcategory\"})\n",
    "events[\"category\"].value_counts()"
   ]
  },
  {
   "cell_type": "code",
   "execution_count": 38,
   "id": "17e10dc4-a5d0-4a01-b401-e0548eed018c",
   "metadata": {},
   "outputs": [
    {
     "data": {
      "text/plain": [
       "subcategory\n",
       "electronics.smartphone              3350680\n",
       "sport.bicycle                        384120\n",
       "appliances.personal.massager         254300\n",
       "electronics.clocks                   228546\n",
       "appliances.kitchen.refrigerators     214637\n",
       "                                     ...   \n",
       "apparel.skirt                           261\n",
       "construction.tools.soldering            200\n",
       "sport.diving                            144\n",
       "computers.components.sound_card         118\n",
       "auto.accessories.light                   41\n",
       "Name: count, Length: 134, dtype: int64"
      ]
     },
     "execution_count": 38,
     "metadata": {},
     "output_type": "execute_result"
    }
   ],
   "source": [
    "events[\"subcategory\"].value_counts()"
   ]
  },
  {
   "cell_type": "markdown",
   "id": "454c7bab-8451-44f0-8125-4799bf154f21",
   "metadata": {},
   "source": [
    "#### Previous conclusion: We solved a problem where each product ID could have multiple categories assigned to it by assign it to the majority category"
   ]
  },
  {
   "cell_type": "code",
   "execution_count": 40,
   "id": "48b3bc8d-8309-4270-892f-674fe7abe49e",
   "metadata": {},
   "outputs": [],
   "source": [
    "# check the products against brands\n",
    "duplicated_brands = events.assign(brand=events[\"brand\"].fillna(\"No brand\"))\\\n",
    ".groupby(\"product_id\")[\"brand\"].nunique().loc[lambda x: x > 1].index"
   ]
  },
  {
   "cell_type": "code",
   "execution_count": 41,
   "id": "917903ee-ef70-436c-9cf3-3f0133eaf292",
   "metadata": {},
   "outputs": [
    {
     "data": {
      "text/plain": [
       "1245"
      ]
     },
     "execution_count": 41,
     "metadata": {},
     "output_type": "execute_result"
    }
   ],
   "source": [
    "len(duplicated_brands)"
   ]
  },
  {
   "cell_type": "code",
   "execution_count": 46,
   "id": "baca40c5-2b69-41d1-9bb7-9bc56c5872f6",
   "metadata": {},
   "outputs": [
    {
     "data": {
      "text/plain": [
       "Index([1001618, 1002310, 1002786, 1002877, 1003080, 1003224, 1003238, 1003330,\n",
       "       1003604, 1003851],\n",
       "      dtype='int64', name='product_id')"
      ]
     },
     "execution_count": 46,
     "metadata": {},
     "output_type": "execute_result"
    }
   ],
   "source": [
    "# investigating products labeled with multiple brands\n",
    "duplicated_brands[:10]"
   ]
  },
  {
   "cell_type": "code",
   "execution_count": 47,
   "id": "1abcb713-e16b-469b-9f6f-e8350f223cf7",
   "metadata": {},
   "outputs": [],
   "source": [
    "def get_correct_brand(product_id_rows):\n",
    "    brand_counts = product_id_rows[\"brand\"].value_counts(dropna=False)\n",
    "\n",
    "    if isinstance(brand_counts.index[0], str):\n",
    "        return brand_counts.index[0]  # return the majority brand\n",
    "\n",
    "    if len(brand_counts) == 1:\n",
    "        return np.nan\n",
    "    \n",
    "    # otherwise return the second value (the majority non-null value)\n",
    "    return brand_counts.index[1]"
   ]
  },
  {
   "cell_type": "code",
   "execution_count": 48,
   "id": "f3364886-eb9a-4b96-a2c2-e8f6c9c05324",
   "metadata": {},
   "outputs": [
    {
     "data": {
      "text/html": [
       "<div>\n",
       "<style scoped>\n",
       "    .dataframe tbody tr th:only-of-type {\n",
       "        vertical-align: middle;\n",
       "    }\n",
       "\n",
       "    .dataframe tbody tr th {\n",
       "        vertical-align: top;\n",
       "    }\n",
       "\n",
       "    .dataframe thead th {\n",
       "        text-align: right;\n",
       "    }\n",
       "</style>\n",
       "<table border=\"1\" class=\"dataframe\">\n",
       "  <thead>\n",
       "    <tr style=\"text-align: right;\">\n",
       "      <th></th>\n",
       "      <th>product_id</th>\n",
       "      <th>corrected_brand</th>\n",
       "    </tr>\n",
       "  </thead>\n",
       "  <tbody>\n",
       "    <tr>\n",
       "      <th>0</th>\n",
       "      <td>1001618</td>\n",
       "      <td>apple</td>\n",
       "    </tr>\n",
       "    <tr>\n",
       "      <th>1</th>\n",
       "      <td>1002310</td>\n",
       "      <td>lg</td>\n",
       "    </tr>\n",
       "    <tr>\n",
       "      <th>2</th>\n",
       "      <td>1002786</td>\n",
       "      <td>apple</td>\n",
       "    </tr>\n",
       "    <tr>\n",
       "      <th>3</th>\n",
       "      <td>1002877</td>\n",
       "      <td>samsung</td>\n",
       "    </tr>\n",
       "    <tr>\n",
       "      <th>4</th>\n",
       "      <td>1003080</td>\n",
       "      <td>huawei</td>\n",
       "    </tr>\n",
       "  </tbody>\n",
       "</table>\n",
       "</div>"
      ],
      "text/plain": [
       "   product_id corrected_brand\n",
       "0     1001618           apple\n",
       "1     1002310              lg\n",
       "2     1002786           apple\n",
       "3     1002877         samsung\n",
       "4     1003080          huawei"
      ]
     },
     "execution_count": 48,
     "metadata": {},
     "output_type": "execute_result"
    }
   ],
   "source": [
    "corrected_brands = events[events[\"product_id\"].isin(duplicated_brands)]\\\n",
    ".groupby(\"product_id\").apply(get_correct_brand).reset_index(name=\"corrected_brand\")\n",
    "\n",
    "corrected_brands.head()"
   ]
  },
  {
   "cell_type": "code",
   "execution_count": 49,
   "id": "c16bbfb7-12d3-4e27-809b-c21db243526c",
   "metadata": {},
   "outputs": [],
   "source": [
    "events = events.merge(corrected_brands, on=\"product_id\", how=\"left\")"
   ]
  },
  {
   "cell_type": "code",
   "execution_count": 50,
   "id": "dea61c63-117f-46d8-87d6-c05d5c994c90",
   "metadata": {},
   "outputs": [],
   "source": [
    "events.loc[events[\"corrected_brand\"].notnull(), \"brand\"] = \\\n",
    "events.loc[events[\"corrected_brand\"].notnull(), \"corrected_brand\"]"
   ]
  },
  {
   "cell_type": "code",
   "execution_count": 51,
   "id": "349645fa-d464-468c-ba86-d06f46e86fdb",
   "metadata": {},
   "outputs": [],
   "source": [
    "assert (len(events[[\"product_id\", \"category\", \"subcategory\", \"brand\"]].drop_duplicates())\\\n",
    "        == events[\"product_id\"].nunique())\n"
   ]
  },
  {
   "cell_type": "markdown",
   "id": "99fc7f0a-4d59-40bc-a7b6-ee5355670079",
   "metadata": {},
   "source": [
    "#### Previous conclusion: We solved a problem where each product ID could have multiple brands assigned to it by assign it to the majority brand"
   ]
  },
  {
   "cell_type": "code",
   "execution_count": 53,
   "id": "ab3f221a-3997-42f8-9064-f24b95030a5e",
   "metadata": {},
   "outputs": [],
   "source": [
    "def get_product_name(row):\n",
    "    brand = \"\"\n",
    "    # only include brand if it's available\n",
    "    if isinstance(row[\"brand\"], str):\n",
    "        brand = row[\"brand\"]\n",
    "        \n",
    "    return f\"{str(row['product_id'])} - {brand} {row['subcategory']}\"\n",
    "\n",
    "# add a new product_name column\n",
    "events[\"product_name\"] = events.apply(get_product_name, axis=1)"
   ]
  },
  {
   "cell_type": "code",
   "execution_count": 54,
   "id": "156f2bca-0523-45d8-9cfb-4acda70636ec",
   "metadata": {},
   "outputs": [
    {
     "data": {
      "text/html": [
       "<div>\n",
       "<style scoped>\n",
       "    .dataframe tbody tr th:only-of-type {\n",
       "        vertical-align: middle;\n",
       "    }\n",
       "\n",
       "    .dataframe tbody tr th {\n",
       "        vertical-align: top;\n",
       "    }\n",
       "\n",
       "    .dataframe thead th {\n",
       "        text-align: right;\n",
       "    }\n",
       "</style>\n",
       "<table border=\"1\" class=\"dataframe\">\n",
       "  <thead>\n",
       "    <tr style=\"text-align: right;\">\n",
       "      <th></th>\n",
       "      <th>event_time</th>\n",
       "      <th>event_type</th>\n",
       "      <th>product_id</th>\n",
       "      <th>category_id</th>\n",
       "      <th>subcategory</th>\n",
       "      <th>brand</th>\n",
       "      <th>price</th>\n",
       "      <th>user_id</th>\n",
       "      <th>user_session</th>\n",
       "      <th>corrected_category</th>\n",
       "      <th>category</th>\n",
       "      <th>corrected_brand</th>\n",
       "      <th>product_name</th>\n",
       "    </tr>\n",
       "  </thead>\n",
       "  <tbody>\n",
       "    <tr>\n",
       "      <th>0</th>\n",
       "      <td>2019-11-01 00:00:14+00:00</td>\n",
       "      <td>cart</td>\n",
       "      <td>1005014</td>\n",
       "      <td>2053013555631882655</td>\n",
       "      <td>electronics.smartphone</td>\n",
       "      <td>samsung</td>\n",
       "      <td>503.09</td>\n",
       "      <td>533326659</td>\n",
       "      <td>6b928be2-2bce-4640-8296-0efdf2fda22a</td>\n",
       "      <td>electronics.smartphone</td>\n",
       "      <td>electronics</td>\n",
       "      <td>NaN</td>\n",
       "      <td>1005014 - samsung electronics.smartphone</td>\n",
       "    </tr>\n",
       "    <tr>\n",
       "      <th>1</th>\n",
       "      <td>2019-11-01 00:00:41+00:00</td>\n",
       "      <td>purchase</td>\n",
       "      <td>13200605</td>\n",
       "      <td>2053013557192163841</td>\n",
       "      <td>furniture.bedroom.bed</td>\n",
       "      <td>NaN</td>\n",
       "      <td>566.30</td>\n",
       "      <td>559368633</td>\n",
       "      <td>d6034fa2-41fb-4ac0-9051-55ea9fc9147a</td>\n",
       "      <td>NaN</td>\n",
       "      <td>furniture</td>\n",
       "      <td>NaN</td>\n",
       "      <td>13200605 -  furniture.bedroom.bed</td>\n",
       "    </tr>\n",
       "    <tr>\n",
       "      <th>2</th>\n",
       "      <td>2019-11-01 00:01:04+00:00</td>\n",
       "      <td>purchase</td>\n",
       "      <td>1005161</td>\n",
       "      <td>2053013555631882655</td>\n",
       "      <td>electronics.smartphone</td>\n",
       "      <td>xiaomi</td>\n",
       "      <td>211.92</td>\n",
       "      <td>513351129</td>\n",
       "      <td>e6b7ce9b-1938-4e20-976c-8b4163aea11d</td>\n",
       "      <td>electronics.smartphone</td>\n",
       "      <td>electronics</td>\n",
       "      <td>NaN</td>\n",
       "      <td>1005161 - xiaomi electronics.smartphone</td>\n",
       "    </tr>\n",
       "    <tr>\n",
       "      <th>3</th>\n",
       "      <td>2019-11-01 00:03:24+00:00</td>\n",
       "      <td>cart</td>\n",
       "      <td>1801881</td>\n",
       "      <td>2053013554415534427</td>\n",
       "      <td>appliances.personal.massager</td>\n",
       "      <td>samsung</td>\n",
       "      <td>488.80</td>\n",
       "      <td>557746614</td>\n",
       "      <td>4d76d6d3-fff5-4880-8327-e9e57b618e0e</td>\n",
       "      <td>appliances.personal.massager</td>\n",
       "      <td>appliances</td>\n",
       "      <td>NaN</td>\n",
       "      <td>1801881 - samsung appliances.personal.massager</td>\n",
       "    </tr>\n",
       "    <tr>\n",
       "      <th>4</th>\n",
       "      <td>2019-11-01 00:03:39+00:00</td>\n",
       "      <td>cart</td>\n",
       "      <td>1005115</td>\n",
       "      <td>2053013555631882655</td>\n",
       "      <td>electronics.smartphone</td>\n",
       "      <td>apple</td>\n",
       "      <td>949.47</td>\n",
       "      <td>565865924</td>\n",
       "      <td>fd4bd6d4-bd14-4fdc-9aff-bd41a594f82e</td>\n",
       "      <td>electronics.smartphone</td>\n",
       "      <td>electronics</td>\n",
       "      <td>NaN</td>\n",
       "      <td>1005115 - apple electronics.smartphone</td>\n",
       "    </tr>\n",
       "  </tbody>\n",
       "</table>\n",
       "</div>"
      ],
      "text/plain": [
       "                 event_time event_type  product_id          category_id  \\\n",
       "0 2019-11-01 00:00:14+00:00       cart     1005014  2053013555631882655   \n",
       "1 2019-11-01 00:00:41+00:00   purchase    13200605  2053013557192163841   \n",
       "2 2019-11-01 00:01:04+00:00   purchase     1005161  2053013555631882655   \n",
       "3 2019-11-01 00:03:24+00:00       cart     1801881  2053013554415534427   \n",
       "4 2019-11-01 00:03:39+00:00       cart     1005115  2053013555631882655   \n",
       "\n",
       "                    subcategory    brand   price    user_id  \\\n",
       "0        electronics.smartphone  samsung  503.09  533326659   \n",
       "1         furniture.bedroom.bed      NaN  566.30  559368633   \n",
       "2        electronics.smartphone   xiaomi  211.92  513351129   \n",
       "3  appliances.personal.massager  samsung  488.80  557746614   \n",
       "4        electronics.smartphone    apple  949.47  565865924   \n",
       "\n",
       "                           user_session            corrected_category  \\\n",
       "0  6b928be2-2bce-4640-8296-0efdf2fda22a        electronics.smartphone   \n",
       "1  d6034fa2-41fb-4ac0-9051-55ea9fc9147a                           NaN   \n",
       "2  e6b7ce9b-1938-4e20-976c-8b4163aea11d        electronics.smartphone   \n",
       "3  4d76d6d3-fff5-4880-8327-e9e57b618e0e  appliances.personal.massager   \n",
       "4  fd4bd6d4-bd14-4fdc-9aff-bd41a594f82e        electronics.smartphone   \n",
       "\n",
       "      category corrected_brand                                    product_name  \n",
       "0  electronics             NaN        1005014 - samsung electronics.smartphone  \n",
       "1    furniture             NaN               13200605 -  furniture.bedroom.bed  \n",
       "2  electronics             NaN         1005161 - xiaomi electronics.smartphone  \n",
       "3   appliances             NaN  1801881 - samsung appliances.personal.massager  \n",
       "4  electronics             NaN          1005115 - apple electronics.smartphone  "
      ]
     },
     "execution_count": 54,
     "metadata": {},
     "output_type": "execute_result"
    }
   ],
   "source": [
    "events.head()"
   ]
  },
  {
   "cell_type": "code",
   "execution_count": 55,
   "id": "13f75683-7a06-450b-847e-a746264fa9b0",
   "metadata": {},
   "outputs": [],
   "source": [
    "# export the modified dataset to a new intermidiate dataset\n",
    "events.to_parquet(\"./events.parquet.gz\", compression=\"gzip\")"
   ]
  }
 ],
 "metadata": {
  "kernelspec": {
   "display_name": "Python 3 (ipykernel)",
   "language": "python",
   "name": "python3"
  },
  "language_info": {
   "codemirror_mode": {
    "name": "ipython",
    "version": 3
   },
   "file_extension": ".py",
   "mimetype": "text/x-python",
   "name": "python",
   "nbconvert_exporter": "python",
   "pygments_lexer": "ipython3",
   "version": "3.11.7"
  }
 },
 "nbformat": 4,
 "nbformat_minor": 5
}
